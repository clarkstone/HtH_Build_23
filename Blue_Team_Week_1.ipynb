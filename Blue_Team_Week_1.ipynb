{
  "nbformat": 4,
  "nbformat_minor": 0,
  "metadata": {
    "colab": {
      "provenance": [],
      "authorship_tag": "ABX9TyNHTfBBoMIvQxu0EG5R+N2X",
      "include_colab_link": true
    },
    "kernelspec": {
      "name": "python3",
      "display_name": "Python 3"
    },
    "language_info": {
      "name": "python"
    }
  },
  "cells": [
    {
      "cell_type": "markdown",
      "metadata": {
        "id": "view-in-github",
        "colab_type": "text"
      },
      "source": [
        "<a href=\"https://colab.research.google.com/github/clarkstone/HtH_Build_23/blob/main/Blue_Team_Week_1.ipynb\" target=\"_parent\"><img src=\"https://colab.research.google.com/assets/colab-badge.svg\" alt=\"Open In Colab\"/></a>"
      ]
    },
    {
      "cell_type": "markdown",
      "source": [],
      "metadata": {
        "id": "-5a63Xz1hdge"
      }
    },
    {
      "cell_type": "code",
      "execution_count": 18,
      "metadata": {
        "colab": {
          "base_uri": "https://localhost:8080/"
        },
        "id": "aGuB35TNe5dT",
        "outputId": "2cea788d-9662-4d15-ccc9-7ef96aaf7e22"
      },
      "outputs": [
        {
          "output_type": "stream",
          "name": "stdout",
          "text": [
            "72847289\n",
            "6\n",
            "3.12\n",
            "10.0\n",
            "6.5\n",
            "Hello World\n",
            "racecar\n",
            "hi i'm paul and I like food.\n",
            "True\n",
            "False\n"
          ]
        }
      ],
      "source": [
        "#Integers = whole numbers, used for math, 1\n",
        "print(72847289)\n",
        "print(2 * 3)\n",
        "#float = decimal numbers, used for math, 1.0\n",
        "print(3.12)\n",
        "print(9.1 + .9)\n",
        "print(4 + 2.5)\n",
        "#Strings = Anything inside of '' or \"\", can inlude \"Clarkston\", \"800 West Main St\"\n",
        "print(\"Hello World\")\n",
        "print(\"race\" + \"car\") #concatenation or concat\n",
        "print(\"hi i'm paul\" + \" and \" + \"I like food.\")\n",
        "#booleans = True or False, true = 1 false = , in python, we say True and False\n",
        "print(7 > 2)\n",
        "print(2 > 7)"
      ]
    },
    {
      "cell_type": "code",
      "source": [],
      "metadata": {
        "id": "LjHhAxknfww2"
      },
      "execution_count": 5,
      "outputs": []
    }
  ]
}